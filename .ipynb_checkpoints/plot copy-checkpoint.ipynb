{
 "cells": [
  {
   "cell_type": "code",
   "execution_count": 7,
   "metadata": {
    "tags": []
   },
   "outputs": [],
   "source": [
    "# import packages\n",
    "import pandas as pd\n",
    "import numpy as np\n",
    "import seaborn as sns\n",
    "\n",
    "import matplotlib.pyplot as plt\n",
    "import matplotlib.mlab as mlab\n",
    "import matplotlib\n",
    "from matplotlib.ticker import FuncFormatter\n",
    "\n",
    "plt.style.use('seaborn-whitegrid')\n",
    "from matplotlib.pyplot import figure\n",
    "\n",
    "%matplotlib inline\n",
    "matplotlib.rcParams['figure.figsize'] = (12,8)\n",
    "\n",
    "pd.options.mode.chained_assignment = None\n",
    "\n",
    "import time\n",
    "import gc"
   ]
  },
  {
   "cell_type": "code",
   "execution_count": 8,
   "metadata": {
    "tags": []
   },
   "outputs": [
    {
     "name": "stdout",
     "output_type": "stream",
     "text": [
      "Time taken:0.5693473815917969 seconds\n"
     ]
    }
   ],
   "source": [
    "# read the cleaned data from last workshop\n",
    "start_time = time.time()\n",
    "df = pd.read_csv('./COVID_complete_v2.csv', engine='python') \n",
    "\n",
    "df['Confirmed'] = df['Confirmed'].astype(int)\n",
    "df['Deaths'] = df['Deaths'].astype(int)\n",
    "df['Recovered'] = df['Recovered'].astype(int)\n",
    "\n",
    "df['Country/Region'] = df['Country/Region'].replace('Mainland China', 'China')\n",
    "df['Active_case'] = df['Confirmed'] - df['Deaths'] - df['Recovered']\n",
    "#Estimates time taken for the action\n",
    "print('Time taken:'+str((time.time() - start_time))+' seconds')  \n",
    "del start_time"
   ]
  },
  {
   "cell_type": "code",
   "execution_count": 9,
   "metadata": {},
   "outputs": [
    {
     "name": "stdout",
     "output_type": "stream",
     "text": [
      "<class 'pandas.core.frame.DataFrame'>\n",
      "RangeIndex: 81452 entries, 0 to 81451\n",
      "Data columns (total 9 columns):\n",
      " #   Column           Non-Null Count  Dtype \n",
      "---  ------           --------------  ----- \n",
      " 0   SNo              81452 non-null  int64 \n",
      " 1   ObservationDate  81452 non-null  object\n",
      " 2   Province/State   81452 non-null  object\n",
      " 3   Country/Region   81452 non-null  object\n",
      " 4   Last Update      81452 non-null  object\n",
      " 5   Confirmed        81452 non-null  int32 \n",
      " 6   Deaths           81452 non-null  int32 \n",
      " 7   Recovered        81452 non-null  int32 \n",
      " 8   Active_case      81452 non-null  int32 \n",
      "dtypes: int32(4), int64(1), object(4)\n",
      "memory usage: 4.4+ MB\n"
     ]
    }
   ],
   "source": [
    "df.info()"
   ]
  },
  {
   "cell_type": "code",
   "execution_count": 10,
   "metadata": {
    "scrolled": true
   },
   "outputs": [
    {
     "data": {
      "text/html": [
       "<div>\n",
       "<style scoped>\n",
       "    .dataframe tbody tr th:only-of-type {\n",
       "        vertical-align: middle;\n",
       "    }\n",
       "\n",
       "    .dataframe tbody tr th {\n",
       "        vertical-align: top;\n",
       "    }\n",
       "\n",
       "    .dataframe thead th {\n",
       "        text-align: right;\n",
       "    }\n",
       "</style>\n",
       "<table border=\"1\" class=\"dataframe\">\n",
       "  <thead>\n",
       "    <tr style=\"text-align: right;\">\n",
       "      <th></th>\n",
       "      <th>SNo</th>\n",
       "      <th>ObservationDate</th>\n",
       "      <th>Province/State</th>\n",
       "      <th>Country/Region</th>\n",
       "      <th>Last Update</th>\n",
       "      <th>Confirmed</th>\n",
       "      <th>Deaths</th>\n",
       "      <th>Recovered</th>\n",
       "      <th>Active_case</th>\n",
       "    </tr>\n",
       "  </thead>\n",
       "  <tbody>\n",
       "    <tr>\n",
       "      <th>0</th>\n",
       "      <td>1</td>\n",
       "      <td>01/22/2020</td>\n",
       "      <td>Anhui</td>\n",
       "      <td>China</td>\n",
       "      <td>1/22/2020 17:00</td>\n",
       "      <td>1</td>\n",
       "      <td>0</td>\n",
       "      <td>0</td>\n",
       "      <td>1</td>\n",
       "    </tr>\n",
       "    <tr>\n",
       "      <th>1</th>\n",
       "      <td>2</td>\n",
       "      <td>01/22/2020</td>\n",
       "      <td>Beijing</td>\n",
       "      <td>China</td>\n",
       "      <td>1/22/2020 17:00</td>\n",
       "      <td>14</td>\n",
       "      <td>0</td>\n",
       "      <td>0</td>\n",
       "      <td>14</td>\n",
       "    </tr>\n",
       "    <tr>\n",
       "      <th>2</th>\n",
       "      <td>3</td>\n",
       "      <td>01/22/2020</td>\n",
       "      <td>Chongqing</td>\n",
       "      <td>China</td>\n",
       "      <td>1/22/2020 17:00</td>\n",
       "      <td>6</td>\n",
       "      <td>0</td>\n",
       "      <td>0</td>\n",
       "      <td>6</td>\n",
       "    </tr>\n",
       "    <tr>\n",
       "      <th>3</th>\n",
       "      <td>4</td>\n",
       "      <td>01/22/2020</td>\n",
       "      <td>Fujian</td>\n",
       "      <td>China</td>\n",
       "      <td>1/22/2020 17:00</td>\n",
       "      <td>1</td>\n",
       "      <td>0</td>\n",
       "      <td>0</td>\n",
       "      <td>1</td>\n",
       "    </tr>\n",
       "    <tr>\n",
       "      <th>4</th>\n",
       "      <td>5</td>\n",
       "      <td>01/22/2020</td>\n",
       "      <td>Gansu</td>\n",
       "      <td>China</td>\n",
       "      <td>1/22/2020 17:00</td>\n",
       "      <td>0</td>\n",
       "      <td>0</td>\n",
       "      <td>0</td>\n",
       "      <td>0</td>\n",
       "    </tr>\n",
       "  </tbody>\n",
       "</table>\n",
       "</div>"
      ],
      "text/plain": [
       "   SNo ObservationDate Province/State Country/Region      Last Update  \\\n",
       "0    1      01/22/2020          Anhui          China  1/22/2020 17:00   \n",
       "1    2      01/22/2020        Beijing          China  1/22/2020 17:00   \n",
       "2    3      01/22/2020      Chongqing          China  1/22/2020 17:00   \n",
       "3    4      01/22/2020         Fujian          China  1/22/2020 17:00   \n",
       "4    5      01/22/2020          Gansu          China  1/22/2020 17:00   \n",
       "\n",
       "   Confirmed  Deaths  Recovered  Active_case  \n",
       "0          1       0          0            1  \n",
       "1         14       0          0           14  \n",
       "2          6       0          0            6  \n",
       "3          1       0          0            1  \n",
       "4          0       0          0            0  "
      ]
     },
     "execution_count": 10,
     "metadata": {},
     "output_type": "execute_result"
    }
   ],
   "source": [
    "df.head()\n"
   ]
  },
  {
   "cell_type": "code",
   "execution_count": 11,
   "metadata": {},
   "outputs": [],
   "source": [
    "df = df[df['ObservationDate'] == max(df['ObservationDate'])].reset_index()"
   ]
  },
  {
   "cell_type": "code",
   "execution_count": 12,
   "metadata": {},
   "outputs": [
    {
     "data": {
      "text/html": [
       "<div>\n",
       "<style scoped>\n",
       "    .dataframe tbody tr th:only-of-type {\n",
       "        vertical-align: middle;\n",
       "    }\n",
       "\n",
       "    .dataframe tbody tr th {\n",
       "        vertical-align: top;\n",
       "    }\n",
       "\n",
       "    .dataframe thead th {\n",
       "        text-align: right;\n",
       "    }\n",
       "</style>\n",
       "<table border=\"1\" class=\"dataframe\">\n",
       "  <thead>\n",
       "    <tr style=\"text-align: right;\">\n",
       "      <th></th>\n",
       "      <th>index</th>\n",
       "      <th>SNo</th>\n",
       "      <th>ObservationDate</th>\n",
       "      <th>Province/State</th>\n",
       "      <th>Country/Region</th>\n",
       "      <th>Last Update</th>\n",
       "      <th>Confirmed</th>\n",
       "      <th>Deaths</th>\n",
       "      <th>Recovered</th>\n",
       "      <th>Active_case</th>\n",
       "    </tr>\n",
       "  </thead>\n",
       "  <tbody>\n",
       "    <tr>\n",
       "      <th>0</th>\n",
       "      <td>80877</td>\n",
       "      <td>116231</td>\n",
       "      <td>09/23/2020</td>\n",
       "      <td>Abruzzo</td>\n",
       "      <td>Italy</td>\n",
       "      <td>2020-09-24 04:23:38</td>\n",
       "      <td>4249</td>\n",
       "      <td>477</td>\n",
       "      <td>3012</td>\n",
       "      <td>760</td>\n",
       "    </tr>\n",
       "    <tr>\n",
       "      <th>1</th>\n",
       "      <td>80878</td>\n",
       "      <td>116232</td>\n",
       "      <td>09/23/2020</td>\n",
       "      <td>Acre</td>\n",
       "      <td>Brazil</td>\n",
       "      <td>2020-09-24 04:23:38</td>\n",
       "      <td>27246</td>\n",
       "      <td>651</td>\n",
       "      <td>24562</td>\n",
       "      <td>2033</td>\n",
       "    </tr>\n",
       "    <tr>\n",
       "      <th>2</th>\n",
       "      <td>80879</td>\n",
       "      <td>116233</td>\n",
       "      <td>09/23/2020</td>\n",
       "      <td>Adygea Republic</td>\n",
       "      <td>Russia</td>\n",
       "      <td>2020-09-24 04:23:38</td>\n",
       "      <td>3873</td>\n",
       "      <td>31</td>\n",
       "      <td>3330</td>\n",
       "      <td>512</td>\n",
       "    </tr>\n",
       "    <tr>\n",
       "      <th>3</th>\n",
       "      <td>80880</td>\n",
       "      <td>116234</td>\n",
       "      <td>09/23/2020</td>\n",
       "      <td>Aguascalientes</td>\n",
       "      <td>Mexico</td>\n",
       "      <td>2020-09-24 04:23:38</td>\n",
       "      <td>6825</td>\n",
       "      <td>592</td>\n",
       "      <td>5793</td>\n",
       "      <td>440</td>\n",
       "    </tr>\n",
       "    <tr>\n",
       "      <th>4</th>\n",
       "      <td>80881</td>\n",
       "      <td>116235</td>\n",
       "      <td>09/23/2020</td>\n",
       "      <td>Aichi</td>\n",
       "      <td>Japan</td>\n",
       "      <td>2020-09-24 04:23:38</td>\n",
       "      <td>5152</td>\n",
       "      <td>83</td>\n",
       "      <td>4633</td>\n",
       "      <td>436</td>\n",
       "    </tr>\n",
       "    <tr>\n",
       "      <th>...</th>\n",
       "      <td>...</td>\n",
       "      <td>...</td>\n",
       "      <td>...</td>\n",
       "      <td>...</td>\n",
       "      <td>...</td>\n",
       "      <td>...</td>\n",
       "      <td>...</td>\n",
       "      <td>...</td>\n",
       "      <td>...</td>\n",
       "      <td>...</td>\n",
       "    </tr>\n",
       "    <tr>\n",
       "      <th>570</th>\n",
       "      <td>81447</td>\n",
       "      <td>116801</td>\n",
       "      <td>09/23/2020</td>\n",
       "      <td>Zaporizhia Oblast</td>\n",
       "      <td>Ukraine</td>\n",
       "      <td>2020-09-24 04:23:38</td>\n",
       "      <td>3149</td>\n",
       "      <td>49</td>\n",
       "      <td>1158</td>\n",
       "      <td>1942</td>\n",
       "    </tr>\n",
       "    <tr>\n",
       "      <th>571</th>\n",
       "      <td>81448</td>\n",
       "      <td>116802</td>\n",
       "      <td>09/23/2020</td>\n",
       "      <td>Zeeland</td>\n",
       "      <td>Netherlands</td>\n",
       "      <td>2020-09-24 04:23:38</td>\n",
       "      <td>1270</td>\n",
       "      <td>72</td>\n",
       "      <td>0</td>\n",
       "      <td>1198</td>\n",
       "    </tr>\n",
       "    <tr>\n",
       "      <th>572</th>\n",
       "      <td>81449</td>\n",
       "      <td>116803</td>\n",
       "      <td>09/23/2020</td>\n",
       "      <td>Zhejiang</td>\n",
       "      <td>China</td>\n",
       "      <td>2020-09-24 04:23:38</td>\n",
       "      <td>1282</td>\n",
       "      <td>1</td>\n",
       "      <td>1272</td>\n",
       "      <td>9</td>\n",
       "    </tr>\n",
       "    <tr>\n",
       "      <th>573</th>\n",
       "      <td>81450</td>\n",
       "      <td>116804</td>\n",
       "      <td>09/23/2020</td>\n",
       "      <td>Zhytomyr Oblast</td>\n",
       "      <td>Ukraine</td>\n",
       "      <td>2020-09-24 04:23:38</td>\n",
       "      <td>5191</td>\n",
       "      <td>92</td>\n",
       "      <td>2853</td>\n",
       "      <td>2246</td>\n",
       "    </tr>\n",
       "    <tr>\n",
       "      <th>574</th>\n",
       "      <td>81451</td>\n",
       "      <td>116805</td>\n",
       "      <td>09/23/2020</td>\n",
       "      <td>Zuid-Holland</td>\n",
       "      <td>Netherlands</td>\n",
       "      <td>2020-09-24 04:23:38</td>\n",
       "      <td>29513</td>\n",
       "      <td>1372</td>\n",
       "      <td>0</td>\n",
       "      <td>28141</td>\n",
       "    </tr>\n",
       "  </tbody>\n",
       "</table>\n",
       "<p>575 rows × 10 columns</p>\n",
       "</div>"
      ],
      "text/plain": [
       "     index     SNo ObservationDate     Province/State Country/Region  \\\n",
       "0    80877  116231      09/23/2020            Abruzzo          Italy   \n",
       "1    80878  116232      09/23/2020               Acre         Brazil   \n",
       "2    80879  116233      09/23/2020    Adygea Republic         Russia   \n",
       "3    80880  116234      09/23/2020     Aguascalientes         Mexico   \n",
       "4    80881  116235      09/23/2020              Aichi          Japan   \n",
       "..     ...     ...             ...                ...            ...   \n",
       "570  81447  116801      09/23/2020  Zaporizhia Oblast        Ukraine   \n",
       "571  81448  116802      09/23/2020            Zeeland    Netherlands   \n",
       "572  81449  116803      09/23/2020           Zhejiang          China   \n",
       "573  81450  116804      09/23/2020    Zhytomyr Oblast        Ukraine   \n",
       "574  81451  116805      09/23/2020       Zuid-Holland    Netherlands   \n",
       "\n",
       "             Last Update  Confirmed  Deaths  Recovered  Active_case  \n",
       "0    2020-09-24 04:23:38       4249     477       3012          760  \n",
       "1    2020-09-24 04:23:38      27246     651      24562         2033  \n",
       "2    2020-09-24 04:23:38       3873      31       3330          512  \n",
       "3    2020-09-24 04:23:38       6825     592       5793          440  \n",
       "4    2020-09-24 04:23:38       5152      83       4633          436  \n",
       "..                   ...        ...     ...        ...          ...  \n",
       "570  2020-09-24 04:23:38       3149      49       1158         1942  \n",
       "571  2020-09-24 04:23:38       1270      72          0         1198  \n",
       "572  2020-09-24 04:23:38       1282       1       1272            9  \n",
       "573  2020-09-24 04:23:38       5191      92       2853         2246  \n",
       "574  2020-09-24 04:23:38      29513    1372          0        28141  \n",
       "\n",
       "[575 rows x 10 columns]"
      ]
     },
     "execution_count": 12,
     "metadata": {},
     "output_type": "execute_result"
    }
   ],
   "source": [
    "df"
   ]
  },
  {
   "cell_type": "code",
   "execution_count": 13,
   "metadata": {},
   "outputs": [],
   "source": [
    "Data_world = df.groupby([\"ObservationDate\"])[[\"Confirmed\",\"Active_case\",\"Recovered\",\"Deaths\"]].sum().reset_index()"
   ]
  },
  {
   "cell_type": "code",
   "execution_count": 14,
   "metadata": {
    "scrolled": true
   },
   "outputs": [
    {
     "data": {
      "text/html": [
       "<div>\n",
       "<style scoped>\n",
       "    .dataframe tbody tr th:only-of-type {\n",
       "        vertical-align: middle;\n",
       "    }\n",
       "\n",
       "    .dataframe tbody tr th {\n",
       "        vertical-align: top;\n",
       "    }\n",
       "\n",
       "    .dataframe thead th {\n",
       "        text-align: right;\n",
       "    }\n",
       "</style>\n",
       "<table border=\"1\" class=\"dataframe\">\n",
       "  <thead>\n",
       "    <tr style=\"text-align: right;\">\n",
       "      <th></th>\n",
       "      <th>ObservationDate</th>\n",
       "      <th>Confirmed</th>\n",
       "      <th>Active_case</th>\n",
       "      <th>Recovered</th>\n",
       "      <th>Deaths</th>\n",
       "    </tr>\n",
       "  </thead>\n",
       "  <tbody>\n",
       "    <tr>\n",
       "      <th>0</th>\n",
       "      <td>09/23/2020</td>\n",
       "      <td>23761605</td>\n",
       "      <td>7128594</td>\n",
       "      <td>15882454</td>\n",
       "      <td>750557</td>\n",
       "    </tr>\n",
       "  </tbody>\n",
       "</table>\n",
       "</div>"
      ],
      "text/plain": [
       "  ObservationDate  Confirmed  Active_case  Recovered  Deaths\n",
       "0      09/23/2020   23761605      7128594   15882454  750557"
      ]
     },
     "execution_count": 14,
     "metadata": {},
     "output_type": "execute_result"
    }
   ],
   "source": [
    "Data_world"
   ]
  },
  {
   "cell_type": "code",
   "execution_count": 15,
   "metadata": {},
   "outputs": [
    {
     "data": {
      "image/png": "[encoded data removed]",
      "text/plain": [
       "<Figure size 864x576 with 1 Axes>"
      ]
     },
     "metadata": {},
     "output_type": "display_data"
    }
   ],
   "source": [
    "# Pie chart, where the slices will be ordered and plotted counter-clockwise:\n",
    "labels = \"Active cases\",\"Recovered\",\"Deaths\"\n",
    "values = Data_world.loc[0, [\"Active_case\",\"Recovered\",\"Deaths\"]]\n",
    "my_colors = ['royalblue','mediumseagreen','indianred']\n",
    "\n",
    "fig1, ax1 = plt.subplots()\n",
    "ax1.pie(values,labels=labels, colors=my_colors,autopct='%1.1f%%')\n",
    "ax1.axis('equal')  # Equal aspect ratio ensures that pie is drawn as a circle.\n",
    "ax1.set_title('Total cases : '+str(Data_world[\"Confirmed\"][0]))\n",
    "plt.show()"
   ]
  },
  {
   "cell_type": "code",
   "execution_count": 39,
   "metadata": {},
   "outputs": [
    {
     "name": "stderr",
     "output_type": "stream",
     "text": [
      "<ipython-input-39-8b7d7ef57c86>:1: FutureWarning: Indexing with multiple keys (implicitly converted to a tuple of keys) will be deprecated, use a list instead.\n",
      "  Data_per_country = df.groupby([\"Country/Region\"])[\"Confirmed\",\"Active_case\",\"Recovered\",\"Deaths\"].sum().reset_index().sort_values(\"Confirmed\",ascending=False).reset_index(drop=True)\n"
     ]
    },
    {
     "data": {
      "text/html": [
       "<div>\n",
       "<style scoped>\n",
       "    .dataframe tbody tr th:only-of-type {\n",
       "        vertical-align: middle;\n",
       "    }\n",
       "\n",
       "    .dataframe tbody tr th {\n",
       "        vertical-align: top;\n",
       "    }\n",
       "\n",
       "    .dataframe thead th {\n",
       "        text-align: right;\n",
       "    }\n",
       "</style>\n",
       "<table border=\"1\" class=\"dataframe\">\n",
       "  <thead>\n",
       "    <tr style=\"text-align: right;\">\n",
       "      <th></th>\n",
       "      <th>Country/Region</th>\n",
       "      <th>Confirmed</th>\n",
       "      <th>Active_case</th>\n",
       "      <th>Recovered</th>\n",
       "      <th>Deaths</th>\n",
       "    </tr>\n",
       "  </thead>\n",
       "  <tbody>\n",
       "    <tr>\n",
       "      <th>0</th>\n",
       "      <td>US</td>\n",
       "      <td>6933548</td>\n",
       "      <td>4061408</td>\n",
       "      <td>2670256</td>\n",
       "      <td>201884</td>\n",
       "    </tr>\n",
       "    <tr>\n",
       "      <th>1</th>\n",
       "      <td>India</td>\n",
       "      <td>5646010</td>\n",
       "      <td>968377</td>\n",
       "      <td>4587613</td>\n",
       "      <td>90020</td>\n",
       "    </tr>\n",
       "    <tr>\n",
       "      <th>2</th>\n",
       "      <td>Brazil</td>\n",
       "      <td>4591364</td>\n",
       "      <td>406432</td>\n",
       "      <td>4046827</td>\n",
       "      <td>138105</td>\n",
       "    </tr>\n",
       "    <tr>\n",
       "      <th>3</th>\n",
       "      <td>Russia</td>\n",
       "      <td>1117487</td>\n",
       "      <td>177165</td>\n",
       "      <td>920602</td>\n",
       "      <td>19720</td>\n",
       "    </tr>\n",
       "    <tr>\n",
       "      <th>4</th>\n",
       "      <td>Colombia</td>\n",
       "      <td>784268</td>\n",
       "      <td>97245</td>\n",
       "      <td>662277</td>\n",
       "      <td>24746</td>\n",
       "    </tr>\n",
       "    <tr>\n",
       "      <th>5</th>\n",
       "      <td>Peru</td>\n",
       "      <td>776546</td>\n",
       "      <td>108489</td>\n",
       "      <td>636489</td>\n",
       "      <td>31568</td>\n",
       "    </tr>\n",
       "    <tr>\n",
       "      <th>6</th>\n",
       "      <td>Mexico</td>\n",
       "      <td>710049</td>\n",
       "      <td>33489</td>\n",
       "      <td>601611</td>\n",
       "      <td>74949</td>\n",
       "    </tr>\n",
       "    <tr>\n",
       "      <th>7</th>\n",
       "      <td>Spain</td>\n",
       "      <td>693556</td>\n",
       "      <td>512146</td>\n",
       "      <td>150376</td>\n",
       "      <td>31034</td>\n",
       "    </tr>\n",
       "    <tr>\n",
       "      <th>8</th>\n",
       "      <td>Chile</td>\n",
       "      <td>449903</td>\n",
       "      <td>12393</td>\n",
       "      <td>425165</td>\n",
       "      <td>12345</td>\n",
       "    </tr>\n",
       "    <tr>\n",
       "      <th>9</th>\n",
       "      <td>UK</td>\n",
       "      <td>412245</td>\n",
       "      <td>368047</td>\n",
       "      <td>2247</td>\n",
       "      <td>41951</td>\n",
       "    </tr>\n",
       "    <tr>\n",
       "      <th>10</th>\n",
       "      <td>Pakistan</td>\n",
       "      <td>308217</td>\n",
       "      <td>7388</td>\n",
       "      <td>294392</td>\n",
       "      <td>6437</td>\n",
       "    </tr>\n",
       "    <tr>\n",
       "      <th>11</th>\n",
       "      <td>Italy</td>\n",
       "      <td>302537</td>\n",
       "      <td>46114</td>\n",
       "      <td>220665</td>\n",
       "      <td>35758</td>\n",
       "    </tr>\n",
       "    <tr>\n",
       "      <th>12</th>\n",
       "      <td>Germany</td>\n",
       "      <td>279025</td>\n",
       "      <td>23896</td>\n",
       "      <td>245706</td>\n",
       "      <td>9423</td>\n",
       "    </tr>\n",
       "    <tr>\n",
       "      <th>13</th>\n",
       "      <td>Ukraine</td>\n",
       "      <td>189488</td>\n",
       "      <td>100937</td>\n",
       "      <td>84767</td>\n",
       "      <td>3784</td>\n",
       "    </tr>\n",
       "    <tr>\n",
       "      <th>14</th>\n",
       "      <td>Canada</td>\n",
       "      <td>149939</td>\n",
       "      <td>10795</td>\n",
       "      <td>129850</td>\n",
       "      <td>9294</td>\n",
       "    </tr>\n",
       "    <tr>\n",
       "      <th>15</th>\n",
       "      <td>Netherlands</td>\n",
       "      <td>105304</td>\n",
       "      <td>95817</td>\n",
       "      <td>3143</td>\n",
       "      <td>6344</td>\n",
       "    </tr>\n",
       "    <tr>\n",
       "      <th>16</th>\n",
       "      <td>Sweden</td>\n",
       "      <td>89756</td>\n",
       "      <td>83880</td>\n",
       "      <td>0</td>\n",
       "      <td>5876</td>\n",
       "    </tr>\n",
       "    <tr>\n",
       "      <th>17</th>\n",
       "      <td>China</td>\n",
       "      <td>85314</td>\n",
       "      <td>171</td>\n",
       "      <td>80509</td>\n",
       "      <td>4634</td>\n",
       "    </tr>\n",
       "    <tr>\n",
       "      <th>18</th>\n",
       "      <td>Japan</td>\n",
       "      <td>80009</td>\n",
       "      <td>6937</td>\n",
       "      <td>71547</td>\n",
       "      <td>1525</td>\n",
       "    </tr>\n",
       "    <tr>\n",
       "      <th>19</th>\n",
       "      <td>Australia</td>\n",
       "      <td>26980</td>\n",
       "      <td>1673</td>\n",
       "      <td>24446</td>\n",
       "      <td>861</td>\n",
       "    </tr>\n",
       "    <tr>\n",
       "      <th>20</th>\n",
       "      <td>France</td>\n",
       "      <td>24500</td>\n",
       "      <td>5564</td>\n",
       "      <td>18741</td>\n",
       "      <td>195</td>\n",
       "    </tr>\n",
       "    <tr>\n",
       "      <th>21</th>\n",
       "      <td>Hong Kong</td>\n",
       "      <td>5049</td>\n",
       "      <td>196</td>\n",
       "      <td>4749</td>\n",
       "      <td>104</td>\n",
       "    </tr>\n",
       "    <tr>\n",
       "      <th>22</th>\n",
       "      <td>Denmark</td>\n",
       "      <td>465</td>\n",
       "      <td>35</td>\n",
       "      <td>430</td>\n",
       "      <td>0</td>\n",
       "    </tr>\n",
       "    <tr>\n",
       "      <th>23</th>\n",
       "      <td>Macau</td>\n",
       "      <td>46</td>\n",
       "      <td>0</td>\n",
       "      <td>46</td>\n",
       "      <td>0</td>\n",
       "    </tr>\n",
       "  </tbody>\n",
       "</table>\n",
       "</div>"
      ],
      "text/plain": [
       "   Country/Region  Confirmed  Active_case  Recovered  Deaths\n",
       "0              US    6933548      4061408    2670256  201884\n",
       "1           India    5646010       968377    4587613   90020\n",
       "2          Brazil    4591364       406432    4046827  138105\n",
       "3          Russia    1117487       177165     920602   19720\n",
       "4        Colombia     784268        97245     662277   24746\n",
       "5            Peru     776546       108489     636489   31568\n",
       "6          Mexico     710049        33489     601611   74949\n",
       "7           Spain     693556       512146     150376   31034\n",
       "8           Chile     449903        12393     425165   12345\n",
       "9              UK     412245       368047       2247   41951\n",
       "10       Pakistan     308217         7388     294392    6437\n",
       "11          Italy     302537        46114     220665   35758\n",
       "12        Germany     279025        23896     245706    9423\n",
       "13        Ukraine     189488       100937      84767    3784\n",
       "14         Canada     149939        10795     129850    9294\n",
       "15    Netherlands     105304        95817       3143    6344\n",
       "16         Sweden      89756        83880          0    5876\n",
       "17          China      85314          171      80509    4634\n",
       "18          Japan      80009         6937      71547    1525\n",
       "19      Australia      26980         1673      24446     861\n",
       "20         France      24500         5564      18741     195\n",
       "21      Hong Kong       5049          196       4749     104\n",
       "22        Denmark        465           35        430       0\n",
       "23          Macau         46            0         46       0"
      ]
     },
     "execution_count": 39,
     "metadata": {},
     "output_type": "execute_result"
    }
   ],
   "source": [
    "Data_per_country = df.groupby([\"Country/Region\"])[\"Confirmed\",\"Active_case\",\"Recovered\",\"Deaths\"].sum().reset_index().sort_values(\"Confirmed\",ascending=False).reset_index(drop=True)\n",
    "Data_per_country"
   ]
  },
  {
   "cell_type": "code",
   "execution_count": 17,
   "metadata": {},
   "outputs": [
    {
     "data": {
      "text/plain": [
       "(24, 5)"
      ]
     },
     "execution_count": 17,
     "metadata": {},
     "output_type": "execute_result"
    }
   ],
   "source": [
    "Data_per_country.shape"
   ]
  },
  {
   "cell_type": "code",
   "execution_count": 18,
   "metadata": {},
   "outputs": [
    {
     "data": {
      "text/plain": [
       "count    2.400000e+01\n",
       "mean     9.900669e+05\n",
       "std      1.884582e+06\n",
       "min      4.600000e+01\n",
       "25%      8.398775e+04\n",
       "50%      2.907810e+05\n",
       "75%      7.266732e+05\n",
       "max      6.933548e+06\n",
       "Name: Confirmed, dtype: float64"
      ]
     },
     "execution_count": 18,
     "metadata": {},
     "output_type": "execute_result"
    }
   ],
   "source": [
    "Data_per_country['Confirmed'].describe()"
   ]
  },
  {
   "cell_type": "code",
   "execution_count": 19,
   "metadata": {},
   "outputs": [
    {
     "data": {
      "image/png": "[encoded data removed]",
      "text/plain": [
       "<Figure size 864x576 with 1 Axes>"
      ]
     },
     "metadata": {
      "needs_background": "light"
     },
     "output_type": "display_data"
    }
   ],
   "source": [
    "fig, ax = plt.subplots()\n",
    "plt.barh(Data_per_country['Country/Region'],Data_per_country['Confirmed'])\n",
    "ax.set_xlabel('Confirmed Cases in Millions')\n",
    "ax.set_ylabel('Countries')\n",
    "ax.set_title('Confirmed Cases In Each Country')\n",
    "plt.show()"
   ]
  },
  {
   "cell_type": "code",
   "execution_count": 20,
   "metadata": {
    "scrolled": true
   },
   "outputs": [
    {
     "data": {
      "image/png": "[encoded data removed]",
      "text/plain": [
       "<Figure size 864x576 with 1 Axes>"
      ]
     },
     "metadata": {
      "needs_background": "light"
     },
     "output_type": "display_data"
    }
   ],
   "source": [
    "fig, ax = plt.subplots()\n",
    "plt.barh(Data_per_country['Country/Region'],Data_per_country['Recovered'],color='mediumseagreen')\n",
    "ax.set_xlabel('Recovered Cases in Millions')\n",
    "ax.set_ylabel('Countries')\n",
    "ax.set_title('Recovered Cases In Each Country')\n",
    "plt.show()"
   ]
  },
  {
   "cell_type": "code",
   "execution_count": 41,
   "metadata": {},
   "outputs": [
    {
     "data": {
      "image/png": "[encoded data removed]",
      "text/plain": [
       "<Figure size 864x576 with 1 Axes>"
      ]
     },
     "metadata": {
      "needs_background": "light"
     },
     "output_type": "display_data"
    }
   ],
   "source": [
    "fig, ax = plt.subplots()\n",
    "plt.barh(Data_per_country['Country/Region'],Data_per_country['Deaths'],color='slategrey')\n",
    "ax.set_xlabel('Deaths Cases in Millions')\n",
    "ax.set_ylabel('Countries')\n",
    "ax.set_title('Deaths Cases In Each Country')\n",
    "plt.show()"
   ]
  },
  {
   "cell_type": "code",
   "execution_count": 35,
   "metadata": {
    "scrolled": true
   },
   "outputs": [
    {
     "data": {
      "text/plain": [
       "<matplotlib.axes._subplots.AxesSubplot at 0x208550059a0>"
      ]
     },
     "execution_count": 35,
     "metadata": {},
     "output_type": "execute_result"
    },
    {
     "data": {
      "image/png": "[encoded data removed]",
      "text/plain": [
       "<Figure size 864x576 with 1 Axes>"
      ]
     },
     "metadata": {},
     "output_type": "display_data"
    }
   ],
   "source": [
    "cat_totals = df.groupby(\"Country/Region\")[\"Active_case\"].sum().sort_values()\n",
    "small_cat_totals = cat_totals[cat_totals < 100000]\n",
    "big_cat_totals = cat_totals[cat_totals > 100000]\n",
    "small_sums = pd.Series([small_cat_totals.sum()], index=[\"Other\"])\n",
    "big_cat_totals = big_cat_totals.append(small_sums)\n",
    "big_cat_totals.plot(kind=\"pie\", label=\"\")"
   ]
  },
  {
   "cell_type": "code",
   "execution_count": 74,
   "metadata": {
    "scrolled": true
   },
   "outputs": [
    {
     "data": {
      "image/png": "[encoded data removed]",
      "text/plain": [
       "<Figure size 864x576 with 1 Axes>"
      ]
     },
     "metadata": {
      "needs_background": "light"
     },
     "output_type": "display_data"
    }
   ],
   "source": [
    "fig, ax = plt.subplots()\n",
    "Data_US = df[df['Country/Region'] =='US']\n",
    "plt.barh(Data_US['Province/State'],Data_US['Deaths'],color='red')\n",
    "ax.set_xlabel('Deaths Cases in Millions')\n",
    "ax.set_ylabel('US State')\n",
    "ax.set_title('Deaths Cases In Each US State')\n",
    "plt.show()"
   ]
  },
  {
   "cell_type": "code",
   "execution_count": null,
   "metadata": {},
   "outputs": [],
   "source": []
  }
 ],
 "metadata": {
  "kernelspec": {
   "display_name": "Python 3",
   "language": "python",
   "name": "python3"
  },
  "language_info": {
   "codemirror_mode": {
    "name": "ipython",
    "version": 3
   },
   "file_extension": ".py",
   "mimetype": "text/x-python",
   "name": "python",
   "nbconvert_exporter": "python",
   "pygments_lexer": "ipython3",
   "version": "3.8.3"
  }
 },
 "nbformat": 4,
 "nbformat_minor": 2
}
