{
 "cells": [
  {
   "cell_type": "code",
   "execution_count": 2,
   "metadata": {},
   "outputs": [],
   "source": [
    "# import libraries\n",
    "import pandas as pd"
   ]
  },
  {
   "cell_type": "code",
   "execution_count": 4,
   "metadata": {},
   "outputs": [
    {
     "name": "stdout",
     "output_type": "stream",
     "text": [
      "<bound method NDFrame.head of         id  case_in_country reporting date  Unnamed: 3  \\\n",
      "0        1              NaN      1/20/2020         NaN   \n",
      "1        2              NaN      1/20/2020         NaN   \n",
      "2        3              NaN      1/21/2020         NaN   \n",
      "3        4              NaN      1/21/2020         NaN   \n",
      "4        5              NaN      1/21/2020         NaN   \n",
      "...    ...              ...            ...         ...   \n",
      "1080  1081              2.0      2/25/2020         NaN   \n",
      "1081  1082              1.0      2/24/2020         NaN   \n",
      "1082  1083              1.0      2/26/2020         NaN   \n",
      "1083  1084              1.0      2/25/2020         NaN   \n",
      "1084  1085              1.0      2/25/2020         NaN   \n",
      "\n",
      "                                                summary             location  \\\n",
      "0     First confirmed imported COVID-19 pneumonia pa...  Shenzhen, Guangdong   \n",
      "1     First confirmed imported COVID-19 pneumonia pa...             Shanghai   \n",
      "2     First confirmed imported cases in Zhejiang: pa...             Zhejiang   \n",
      "3     new confirmed imported COVID-19 pneumonia in T...              Tianjin   \n",
      "4     new confirmed imported COVID-19 pneumonia in T...              Tianjin   \n",
      "...                                                 ...                  ...   \n",
      "1080  new COVID-19 patient confirmed in Austria: 24,...            Innsbruck   \n",
      "1081  new COVID-19 patient confirmed in Afghanistan:...          Afghanistan   \n",
      "1082  new COVID-19 patient confirmed in Algeria: mal...              Algeria   \n",
      "1083  new COVID-19 patient confirmed in Croatia: mal...              Croatia   \n",
      "1084  new COVID-19 patient confirmed in Switzerland:...                 Bern   \n",
      "\n",
      "          country  gender   age symptom_onset  ...  exposure_start  \\\n",
      "0           China    male  66.0      01/03/20  ...      12/29/2019   \n",
      "1           China  female  56.0     1/15/2020  ...             NaN   \n",
      "2           China    male  46.0      01/04/20  ...             NaN   \n",
      "3           China  female  60.0           NaN  ...             NaN   \n",
      "4           China    male  58.0           NaN  ...             NaN   \n",
      "...           ...     ...   ...           ...  ...             ...   \n",
      "1080      Austria     NaN  24.0           NaN  ...             NaN   \n",
      "1081  Afghanistan     NaN  35.0           NaN  ...             NaN   \n",
      "1082      Algeria    male   NaN           NaN  ...             NaN   \n",
      "1083      Croatia    male   NaN           NaN  ...       2/19/2020   \n",
      "1084  Switzerland    male  70.0     2/17/2020  ...       2/15/2020   \n",
      "\n",
      "     exposure_end visiting Wuhan from Wuhan  death  recovered symptom  \\\n",
      "0        01/04/20              1        0.0      0          0     NaN   \n",
      "1        01/12/20              0        1.0      0          0     NaN   \n",
      "2        01/03/20              0        1.0      0          0     NaN   \n",
      "3             NaN              1        0.0      0          0     NaN   \n",
      "4             NaN              0        0.0      0          0     NaN   \n",
      "...           ...            ...        ...    ...        ...     ...   \n",
      "1080          NaN              0        0.0      0          0     NaN   \n",
      "1081          NaN              0        0.0      0          0     NaN   \n",
      "1082    2/17/2020              0        0.0      0          0     NaN   \n",
      "1083    2/21/2020              0        0.0      0          0     NaN   \n",
      "1084    2/15/2020              0        0.0      0          0     NaN   \n",
      "\n",
      "                                                 source  \\\n",
      "0                  Shenzhen Municipal Health Commission   \n",
      "1     Official Weibo of Shanghai Municipal Health Co...   \n",
      "2                Health Commission of Zhejiang Province   \n",
      "3                                              人民日报官方微博   \n",
      "4                                              人民日报官方微博   \n",
      "...                                                 ...   \n",
      "1080                                       Jakarta Post   \n",
      "1081                                           Fox News   \n",
      "1082                           South China Morning Post   \n",
      "1083                                            Reuters   \n",
      "1084                                            Reuters   \n",
      "\n",
      "                                                   link Unnamed: 26  \n",
      "0     http://wjw.sz.gov.cn/wzx/202001/t20200120_1898...         NaN  \n",
      "1     https://www.weibo.com/2372649470/IqogQhgfa?fro...         NaN  \n",
      "2     http://www.zjwjw.gov.cn/art/2020/1/21/art_1202...         NaN  \n",
      "3           https://m.weibo.cn/status/4463235401268457?         NaN  \n",
      "4           https://m.weibo.cn/status/4463235401268457?         NaN  \n",
      "...                                                 ...         ...  \n",
      "1080  https://www.thejakartapost.com/news/2020/02/25...         NaN  \n",
      "1081  https://www.foxnews.com/health/afghanistan-fir...         NaN  \n",
      "1082  https://www.scmp.com/news/china/society/articl...         NaN  \n",
      "1083  https://www.reuters.com/article/us-croatia-cor...         NaN  \n",
      "1084  https://www.reuters.com/article/uk-switzerland...         NaN  \n",
      "\n",
      "[1085 rows x 22 columns]>\n"
     ]
    }
   ],
   "source": [
    "# read csv file into a pandas dataframe\n",
    "df = pd.read_csv(\"./COVID_list_line_data.csv\")\n",
    "print(df.head)"
   ]
  },
  {
   "cell_type": "code",
   "execution_count": 7,
   "metadata": {},
   "outputs": [
    {
     "name": "stdout",
     "output_type": "stream",
     "text": [
      "id                          0\n",
      "case_in_country           197\n",
      "reporting date              1\n",
      "Unnamed: 3               1085\n",
      "summary                     5\n",
      "location                    0\n",
      "country                     0\n",
      "gender                    183\n",
      "age                       242\n",
      "symptom_onset             522\n",
      "If_onset_approximated     525\n",
      "hosp_visit_date           578\n",
      "exposure_start            957\n",
      "exposure_end              744\n",
      "visiting Wuhan              0\n",
      "from Wuhan                  4\n",
      "death                       0\n",
      "recovered                   0\n",
      "symptom                   815\n",
      "source                      0\n",
      "link                        0\n",
      "Unnamed: 26              1085\n",
      "dtype: int64\n"
     ]
    }
   ],
   "source": [
    "# total missing values for each column in the df  \n",
    "print(df.isnull().sum())"
   ]
  },
  {
   "cell_type": "code",
   "execution_count": 13,
   "metadata": {},
   "outputs": [
    {
     "name": "stdout",
     "output_type": "stream",
     "text": [
      "0        NaN\n",
      "1        NaN\n",
      "2        NaN\n",
      "3        NaN\n",
      "4        NaN\n",
      "        ... \n",
      "1077    16.0\n",
      "1078    17.0\n",
      "1082     1.0\n",
      "1083     1.0\n",
      "1084     1.0\n",
      "Name: case_in_country, Length: 902, dtype: float64\n",
      "0        True\n",
      "1        True\n",
      "2        True\n",
      "3        True\n",
      "4        True\n",
      "        ...  \n",
      "1077    False\n",
      "1078    False\n",
      "1082    False\n",
      "1083    False\n",
      "1084    False\n",
      "Name: case_in_country, Length: 902, dtype: bool\n"
     ]
    }
   ],
   "source": [
    "# look at the case_in_country\n",
    "print(df['case_in_country'])\n",
    "print(df['case_in_country'].isnull())"
   ]
  },
  {
   "cell_type": "code",
   "execution_count": 12,
   "metadata": {},
   "outputs": [],
   "source": [
    "# delete column from dataframe\n",
    "del df['summary']\n",
    "del df['Unnamed: 3']\n",
    "del df['age']"
   ]
  },
  {
   "cell_type": "code",
   "execution_count": 11,
   "metadata": {},
   "outputs": [],
   "source": [
    "# deleting records with nan values from the gender column\n",
    "df.dropna(subset = [\"gender\"], inplace=True)"
   ]
  },
  {
   "cell_type": "code",
   "execution_count": 10,
   "metadata": {},
   "outputs": [
    {
     "name": "stdout",
     "output_type": "stream",
     "text": [
      "<bound method NDFrame.head of         id  case_in_country reporting date  Unnamed: 3  \\\n",
      "0        1              NaN      1/20/2020         NaN   \n",
      "1        2              NaN      1/20/2020         NaN   \n",
      "2        3              NaN      1/21/2020         NaN   \n",
      "3        4              NaN      1/21/2020         NaN   \n",
      "4        5              NaN      1/21/2020         NaN   \n",
      "...    ...              ...            ...         ...   \n",
      "1080  1081              2.0      2/25/2020         NaN   \n",
      "1081  1082              1.0      2/24/2020         NaN   \n",
      "1082  1083              1.0      2/26/2020         NaN   \n",
      "1083  1084              1.0      2/25/2020         NaN   \n",
      "1084  1085              1.0      2/25/2020         NaN   \n",
      "\n",
      "                                                summary             location  \\\n",
      "0     First confirmed imported COVID-19 pneumonia pa...  Shenzhen, Guangdong   \n",
      "1     First confirmed imported COVID-19 pneumonia pa...             Shanghai   \n",
      "2     First confirmed imported cases in Zhejiang: pa...             Zhejiang   \n",
      "3     new confirmed imported COVID-19 pneumonia in T...              Tianjin   \n",
      "4     new confirmed imported COVID-19 pneumonia in T...              Tianjin   \n",
      "...                                                 ...                  ...   \n",
      "1080  new COVID-19 patient confirmed in Austria: 24,...            Innsbruck   \n",
      "1081  new COVID-19 patient confirmed in Afghanistan:...          Afghanistan   \n",
      "1082  new COVID-19 patient confirmed in Algeria: mal...              Algeria   \n",
      "1083  new COVID-19 patient confirmed in Croatia: mal...              Croatia   \n",
      "1084  new COVID-19 patient confirmed in Switzerland:...                 Bern   \n",
      "\n",
      "          country  gender   age symptom_onset  ...  exposure_start  \\\n",
      "0           China    male  66.0      01/03/20  ...      12/29/2019   \n",
      "1           China  female  56.0     1/15/2020  ...             NaN   \n",
      "2           China    male  46.0      01/04/20  ...             NaN   \n",
      "3           China  female  60.0           NaN  ...             NaN   \n",
      "4           China    male  58.0           NaN  ...             NaN   \n",
      "...           ...     ...   ...           ...  ...             ...   \n",
      "1080      Austria     NaN  24.0           NaN  ...             NaN   \n",
      "1081  Afghanistan     NaN  35.0           NaN  ...             NaN   \n",
      "1082      Algeria    male   NaN           NaN  ...             NaN   \n",
      "1083      Croatia    male   NaN           NaN  ...       2/19/2020   \n",
      "1084  Switzerland    male  70.0     2/17/2020  ...       2/15/2020   \n",
      "\n",
      "     exposure_end visiting Wuhan from Wuhan  death  recovered symptom  \\\n",
      "0        01/04/20              1        0.0      0          0     NaN   \n",
      "1        01/12/20              0        1.0      0          0     NaN   \n",
      "2        01/03/20              0        1.0      0          0     NaN   \n",
      "3             NaN              1        0.0      0          0     NaN   \n",
      "4             NaN              0        0.0      0          0     NaN   \n",
      "...           ...            ...        ...    ...        ...     ...   \n",
      "1080          NaN              0        0.0      0          0     NaN   \n",
      "1081          NaN              0        0.0      0          0     NaN   \n",
      "1082    2/17/2020              0        0.0      0          0     NaN   \n",
      "1083    2/21/2020              0        0.0      0          0     NaN   \n",
      "1084    2/15/2020              0        0.0      0          0     NaN   \n",
      "\n",
      "                                                 source  \\\n",
      "0                  Shenzhen Municipal Health Commission   \n",
      "1     Official Weibo of Shanghai Municipal Health Co...   \n",
      "2                Health Commission of Zhejiang Province   \n",
      "3                                              人民日报官方微博   \n",
      "4                                              人民日报官方微博   \n",
      "...                                                 ...   \n",
      "1080                                       Jakarta Post   \n",
      "1081                                           Fox News   \n",
      "1082                           South China Morning Post   \n",
      "1083                                            Reuters   \n",
      "1084                                            Reuters   \n",
      "\n",
      "                                                   link Unnamed: 26  \n",
      "0     http://wjw.sz.gov.cn/wzx/202001/t20200120_1898...         NaN  \n",
      "1     https://www.weibo.com/2372649470/IqogQhgfa?fro...         NaN  \n",
      "2     http://www.zjwjw.gov.cn/art/2020/1/21/art_1202...         NaN  \n",
      "3           https://m.weibo.cn/status/4463235401268457?         NaN  \n",
      "4           https://m.weibo.cn/status/4463235401268457?         NaN  \n",
      "...                                                 ...         ...  \n",
      "1080  https://www.thejakartapost.com/news/2020/02/25...         NaN  \n",
      "1081  https://www.foxnews.com/health/afghanistan-fir...         NaN  \n",
      "1082  https://www.scmp.com/news/china/society/articl...         NaN  \n",
      "1083  https://www.reuters.com/article/us-croatia-cor...         NaN  \n",
      "1084  https://www.reuters.com/article/uk-switzerland...         NaN  \n",
      "\n",
      "[1085 rows x 22 columns]>\n"
     ]
    }
   ],
   "source": [
    "print(df.head)"
   ]
  },
  {
   "cell_type": "code",
   "execution_count": 9,
   "metadata": {},
   "outputs": [
    {
     "name": "stdout",
     "output_type": "stream",
     "text": [
      "id                          0\n",
      "case_in_country           197\n",
      "reporting date              1\n",
      "Unnamed: 3               1085\n",
      "summary                     5\n",
      "location                    0\n",
      "country                     0\n",
      "gender                    183\n",
      "age                       242\n",
      "symptom_onset             522\n",
      "If_onset_approximated     525\n",
      "hosp_visit_date           578\n",
      "exposure_start            957\n",
      "exposure_end              744\n",
      "visiting Wuhan              0\n",
      "from Wuhan                  4\n",
      "death                       0\n",
      "recovered                   0\n",
      "symptom                   815\n",
      "source                      0\n",
      "link                        0\n",
      "Unnamed: 26              1085\n",
      "dtype: int64\n"
     ]
    }
   ],
   "source": [
    "# total missing values for each column in the df  \n",
    "print(df.isnull().sum())"
   ]
  },
  {
   "cell_type": "code",
   "execution_count": 14,
   "metadata": {},
   "outputs": [],
   "source": [
    "# export to new csv file on machine to visualize for next workshop\n",
    "df.to_csv(\"./COVID_complete.csv\", index=False)"
   ]
  },
  {
   "cell_type": "code",
   "execution_count": null,
   "metadata": {},
   "outputs": [],
   "source": []
  },
  {
   "cell_type": "code",
   "execution_count": null,
   "metadata": {},
   "outputs": [],
   "source": []
  }
 ],
 "metadata": {
  "kernelspec": {
   "display_name": "Python 3",
   "language": "python",
   "name": "python3"
  },
  "language_info": {
   "codemirror_mode": {
    "name": "ipython",
    "version": 3
   },
   "file_extension": ".py",
   "mimetype": "text/x-python",
   "name": "python",
   "nbconvert_exporter": "python",
   "pygments_lexer": "ipython3",
   "version": "3.8.3"
  }
 },
 "nbformat": 4,
 "nbformat_minor": 2
}
