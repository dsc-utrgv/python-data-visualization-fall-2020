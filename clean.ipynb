{
 "metadata": {
  "language_info": {
   "codemirror_mode": {
    "name": "ipython",
    "version": 3
   },
   "file_extension": ".py",
   "mimetype": "text/x-python",
   "name": "python",
   "nbconvert_exporter": "python",
   "pygments_lexer": "ipython3",
   "version": "3.8.0-final"
  },
  "orig_nbformat": 2,
  "kernelspec": {
   "name": "Python 3.8.0 64-bit",
   "display_name": "Python 3.8.0 64-bit",
   "metadata": {
    "interpreter": {
     "hash": "082e9a3bcad0a290d0001e938aa60b99250c6c2ef33a923c00b70f9826caf4b7"
    }
   }
  }
 },
 "nbformat": 4,
 "nbformat_minor": 2,
 "cells": [
  {
   "cell_type": "code",
   "execution_count": null,
   "metadata": {},
   "outputs": [],
   "source": [
    "# import libraries\n",
    "import pandas as pd"
   ]
  },
  {
   "cell_type": "code",
   "execution_count": null,
   "metadata": {},
   "outputs": [],
   "source": [
    "# read csv file into a pandas dataframe\n",
    "df = pd.read_csv(\"/Users/Subbalakshmi/Documents/DataVizPython/dsc_utrgv/data-cleaning-with-pandas-fall-2020/COVID_list_line_data.csv\")\n",
    "print(df.head)"
   ]
  },
  {
   "cell_type": "code",
   "execution_count": 11,
   "metadata": {},
   "outputs": [
    {
     "output_type": "stream",
     "name": "stdout",
     "text": [
      "id                         0\ncase_in_country          197\nreporting date             0\nlocation                   0\ncountry                    0\ngender                     0\nsymptom_onset            344\nIf_onset_approximated    347\nhosp_visit_date          397\nexposure_start           783\nexposure_end             582\nvisiting Wuhan             0\nfrom Wuhan                 4\ndeath                      0\nrecovered                  0\nsymptom                  633\nsource                     0\nlink                       0\nUnnamed: 26              902\ndtype: int64\n"
     ]
    }
   ],
   "source": [
    "# total missing values for each column in the df  \n",
    "print(df.isnull().sum())"
   ]
  },
  {
   "cell_type": "code",
   "execution_count": null,
   "metadata": {},
   "outputs": [],
   "source": [
    "# look at the case_in_country\n",
    "print(df['case_in_country'])\n",
    "print(df['case_in_country'].isnull())"
   ]
  },
  {
   "cell_type": "code",
   "execution_count": null,
   "metadata": {},
   "outputs": [],
   "source": [
    "# delete column from dataframe\n",
    "del df['summary']\n",
    "del df['Unnamed: 3']\n",
    "del df['age']"
   ]
  },
  {
   "cell_type": "code",
   "execution_count": null,
   "metadata": {},
   "outputs": [],
   "source": [
    "# deleting records with nan values from the gender column\n",
    "df.dropna(subset = [\"gender\"], inplace=True)"
   ]
  },
  {
   "cell_type": "code",
   "execution_count": null,
   "metadata": {},
   "outputs": [],
   "source": [
    "print(df.head)"
   ]
  },
  {
   "cell_type": "code",
   "execution_count": null,
   "metadata": {},
   "outputs": [],
   "source": [
    "# total missing values for each column in the df  \n",
    "print(df.isnull().sum())"
   ]
  },
  {
   "cell_type": "code",
   "execution_count": null,
   "metadata": {},
   "outputs": [],
   "source": [
    "# export to new csv file on machine to visualize for next workshop\n",
    "df.to_csv(\"/Users/Subbalakshmi/Documents/DataVizPython/dsc_utrgv/data-cleaning-with-pandas-fall-2020/COVID_complete.csv\", index=False)"
   ]
  },
  {
   "cell_type": "code",
   "execution_count": null,
   "metadata": {},
   "outputs": [],
   "source": []
  }
 ]
}