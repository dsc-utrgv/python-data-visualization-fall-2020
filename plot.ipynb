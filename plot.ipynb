{
 "cells": [
  {
   "cell_type": "code",
   "execution_count": 165,
   "metadata": {
    "tags": []
   },
   "outputs": [],
   "source": [
    "# import packages\n",
    "import pandas as pd\n",
    "import numpy as np\n",
    "import seaborn as sns\n",
    "\n",
    "import matplotlib.pyplot as plt\n",
    "import matplotlib.mlab as mlab\n",
    "import matplotlib\n",
    "plt.style.use('seaborn-whitegrid')\n",
    "from matplotlib.pyplot import figure\n",
    "\n",
    "%matplotlib inline\n",
    "matplotlib.rcParams['figure.figsize'] = (12,8)\n",
    "\n",
    "pd.options.mode.chained_assignment = None\n",
    "\n",
    "import time\n",
    "import gc"
   ]
  },
  {
   "cell_type": "code",
   "execution_count": 166,
   "metadata": {
    "tags": []
   },
   "outputs": [
    {
     "name": "stdout",
     "output_type": "stream",
     "text": [
      "Time taken:0.053856611251831055 seconds\n"
     ]
    }
   ],
   "source": [
    "# read the cleaned data from last workshop\n",
    "start_time = time.time()\n",
    "df = pd.read_csv('./COVID_complete.csv', engine='python') \n",
    "\n",
    "#Estimates time taken for the action\n",
    "print('Time taken:'+str((time.time() - start_time))+' seconds')  \n",
    "del start_time"
   ]
  },
  {
   "cell_type": "code",
   "execution_count": 167,
   "metadata": {},
   "outputs": [
    {
     "name": "stdout",
     "output_type": "stream",
     "text": [
      "<class 'pandas.core.frame.DataFrame'>\n",
      "RangeIndex: 902 entries, 0 to 901\n",
      "Data columns (total 19 columns):\n",
      " #   Column                 Non-Null Count  Dtype  \n",
      "---  ------                 --------------  -----  \n",
      " 0   id                     902 non-null    int64  \n",
      " 1   case_in_country        705 non-null    float64\n",
      " 2   reporting date         902 non-null    object \n",
      " 3   location               902 non-null    object \n",
      " 4   country                902 non-null    object \n",
      " 5   gender                 902 non-null    object \n",
      " 6   symptom_onset          558 non-null    object \n",
      " 7   If_onset_approximated  555 non-null    float64\n",
      " 8   hosp_visit_date        505 non-null    object \n",
      " 9   exposure_start         119 non-null    object \n",
      " 10  exposure_end           320 non-null    object \n",
      " 11  visiting Wuhan         902 non-null    int64  \n",
      " 12  from Wuhan             898 non-null    float64\n",
      " 13  death                  902 non-null    object \n",
      " 14  recovered              902 non-null    object \n",
      " 15  symptom                269 non-null    object \n",
      " 16  source                 902 non-null    object \n",
      " 17  link                   902 non-null    object \n",
      " 18  Unnamed: 26            0 non-null      float64\n",
      "dtypes: float64(4), int64(2), object(13)\n",
      "memory usage: 134.0+ KB\n"
     ]
    }
   ],
   "source": [
    "df\n",
    "# print(df.index) #Print all indexes in the df\n",
    "# print(len(df.columns))\n",
    "df.info()\n",
    "# df.dtypes"
   ]
  },
  {
   "cell_type": "code",
   "execution_count": 168,
   "metadata": {
    "scrolled": true
   },
   "outputs": [
    {
     "data": {
      "text/html": [
       "<div>\n",
       "<style scoped>\n",
       "    .dataframe tbody tr th:only-of-type {\n",
       "        vertical-align: middle;\n",
       "    }\n",
       "\n",
       "    .dataframe tbody tr th {\n",
       "        vertical-align: top;\n",
       "    }\n",
       "\n",
       "    .dataframe thead th {\n",
       "        text-align: right;\n",
       "    }\n",
       "</style>\n",
       "<table border=\"1\" class=\"dataframe\">\n",
       "  <thead>\n",
       "    <tr style=\"text-align: right;\">\n",
       "      <th></th>\n",
       "      <th>id</th>\n",
       "      <th>case_in_country</th>\n",
       "      <th>reporting date</th>\n",
       "      <th>location</th>\n",
       "      <th>country</th>\n",
       "      <th>gender</th>\n",
       "      <th>symptom_onset</th>\n",
       "      <th>If_onset_approximated</th>\n",
       "      <th>hosp_visit_date</th>\n",
       "      <th>exposure_start</th>\n",
       "      <th>exposure_end</th>\n",
       "      <th>visiting Wuhan</th>\n",
       "      <th>from Wuhan</th>\n",
       "      <th>death</th>\n",
       "      <th>recovered</th>\n",
       "      <th>symptom</th>\n",
       "      <th>source</th>\n",
       "      <th>link</th>\n",
       "      <th>Unnamed: 26</th>\n",
       "    </tr>\n",
       "  </thead>\n",
       "  <tbody>\n",
       "    <tr>\n",
       "      <th>0</th>\n",
       "      <td>1</td>\n",
       "      <td>NaN</td>\n",
       "      <td>1/20/2020</td>\n",
       "      <td>Shenzhen, Guangdong</td>\n",
       "      <td>China</td>\n",
       "      <td>male</td>\n",
       "      <td>01/03/20</td>\n",
       "      <td>0.0</td>\n",
       "      <td>01/11/20</td>\n",
       "      <td>12/29/2019</td>\n",
       "      <td>01/04/20</td>\n",
       "      <td>1</td>\n",
       "      <td>0.0</td>\n",
       "      <td>0</td>\n",
       "      <td>0</td>\n",
       "      <td>NaN</td>\n",
       "      <td>Shenzhen Municipal Health Commission</td>\n",
       "      <td>http://wjw.sz.gov.cn/wzx/202001/t20200120_1898...</td>\n",
       "      <td>NaN</td>\n",
       "    </tr>\n",
       "    <tr>\n",
       "      <th>1</th>\n",
       "      <td>2</td>\n",
       "      <td>NaN</td>\n",
       "      <td>1/20/2020</td>\n",
       "      <td>Shanghai</td>\n",
       "      <td>China</td>\n",
       "      <td>female</td>\n",
       "      <td>1/15/2020</td>\n",
       "      <td>0.0</td>\n",
       "      <td>1/15/2020</td>\n",
       "      <td>NaN</td>\n",
       "      <td>01/12/20</td>\n",
       "      <td>0</td>\n",
       "      <td>1.0</td>\n",
       "      <td>0</td>\n",
       "      <td>0</td>\n",
       "      <td>NaN</td>\n",
       "      <td>Official Weibo of Shanghai Municipal Health Co...</td>\n",
       "      <td>https://www.weibo.com/2372649470/IqogQhgfa?fro...</td>\n",
       "      <td>NaN</td>\n",
       "    </tr>\n",
       "    <tr>\n",
       "      <th>2</th>\n",
       "      <td>3</td>\n",
       "      <td>NaN</td>\n",
       "      <td>1/21/2020</td>\n",
       "      <td>Zhejiang</td>\n",
       "      <td>China</td>\n",
       "      <td>male</td>\n",
       "      <td>01/04/20</td>\n",
       "      <td>0.0</td>\n",
       "      <td>1/17/2020</td>\n",
       "      <td>NaN</td>\n",
       "      <td>01/03/20</td>\n",
       "      <td>0</td>\n",
       "      <td>1.0</td>\n",
       "      <td>0</td>\n",
       "      <td>0</td>\n",
       "      <td>NaN</td>\n",
       "      <td>Health Commission of Zhejiang Province</td>\n",
       "      <td>http://www.zjwjw.gov.cn/art/2020/1/21/art_1202...</td>\n",
       "      <td>NaN</td>\n",
       "    </tr>\n",
       "    <tr>\n",
       "      <th>3</th>\n",
       "      <td>4</td>\n",
       "      <td>NaN</td>\n",
       "      <td>1/21/2020</td>\n",
       "      <td>Tianjin</td>\n",
       "      <td>China</td>\n",
       "      <td>female</td>\n",
       "      <td>NaN</td>\n",
       "      <td>NaN</td>\n",
       "      <td>1/19/2020</td>\n",
       "      <td>NaN</td>\n",
       "      <td>NaN</td>\n",
       "      <td>1</td>\n",
       "      <td>0.0</td>\n",
       "      <td>0</td>\n",
       "      <td>0</td>\n",
       "      <td>NaN</td>\n",
       "      <td>äººæ°‘æ—¥æŠ¥å®˜æ–¹å¾®å�š</td>\n",
       "      <td>https://m.weibo.cn/status/4463235401268457?</td>\n",
       "      <td>NaN</td>\n",
       "    </tr>\n",
       "    <tr>\n",
       "      <th>4</th>\n",
       "      <td>5</td>\n",
       "      <td>NaN</td>\n",
       "      <td>1/21/2020</td>\n",
       "      <td>Tianjin</td>\n",
       "      <td>China</td>\n",
       "      <td>male</td>\n",
       "      <td>NaN</td>\n",
       "      <td>NaN</td>\n",
       "      <td>1/14/2020</td>\n",
       "      <td>NaN</td>\n",
       "      <td>NaN</td>\n",
       "      <td>0</td>\n",
       "      <td>0.0</td>\n",
       "      <td>0</td>\n",
       "      <td>0</td>\n",
       "      <td>NaN</td>\n",
       "      <td>äººæ°‘æ—¥æŠ¥å®˜æ–¹å¾®å�š</td>\n",
       "      <td>https://m.weibo.cn/status/4463235401268457?</td>\n",
       "      <td>NaN</td>\n",
       "    </tr>\n",
       "  </tbody>\n",
       "</table>\n",
       "</div>"
      ],
      "text/plain": [
       "   id  case_in_country reporting date             location country  gender  \\\n",
       "0   1              NaN      1/20/2020  Shenzhen, Guangdong   China    male   \n",
       "1   2              NaN      1/20/2020             Shanghai   China  female   \n",
       "2   3              NaN      1/21/2020             Zhejiang   China    male   \n",
       "3   4              NaN      1/21/2020              Tianjin   China  female   \n",
       "4   5              NaN      1/21/2020              Tianjin   China    male   \n",
       "\n",
       "  symptom_onset  If_onset_approximated hosp_visit_date exposure_start  \\\n",
       "0      01/03/20                    0.0        01/11/20     12/29/2019   \n",
       "1     1/15/2020                    0.0       1/15/2020            NaN   \n",
       "2      01/04/20                    0.0       1/17/2020            NaN   \n",
       "3           NaN                    NaN       1/19/2020            NaN   \n",
       "4           NaN                    NaN       1/14/2020            NaN   \n",
       "\n",
       "  exposure_end  visiting Wuhan  from Wuhan death recovered symptom  \\\n",
       "0     01/04/20               1         0.0     0         0     NaN   \n",
       "1     01/12/20               0         1.0     0         0     NaN   \n",
       "2     01/03/20               0         1.0     0         0     NaN   \n",
       "3          NaN               1         0.0     0         0     NaN   \n",
       "4          NaN               0         0.0     0         0     NaN   \n",
       "\n",
       "                                              source  \\\n",
       "0               Shenzhen Municipal Health Commission   \n",
       "1  Official Weibo of Shanghai Municipal Health Co...   \n",
       "2             Health Commission of Zhejiang Province   \n",
       "3                           äººæ°‘æ—¥æŠ¥å®˜æ–¹å¾®å�š   \n",
       "4                           äººæ°‘æ—¥æŠ¥å®˜æ–¹å¾®å�š   \n",
       "\n",
       "                                                link  Unnamed: 26  \n",
       "0  http://wjw.sz.gov.cn/wzx/202001/t20200120_1898...          NaN  \n",
       "1  https://www.weibo.com/2372649470/IqogQhgfa?fro...          NaN  \n",
       "2  http://www.zjwjw.gov.cn/art/2020/1/21/art_1202...          NaN  \n",
       "3        https://m.weibo.cn/status/4463235401268457?          NaN  \n",
       "4        https://m.weibo.cn/status/4463235401268457?          NaN  "
      ]
     },
     "execution_count": 168,
     "metadata": {},
     "output_type": "execute_result"
    }
   ],
   "source": [
    "df.head()\n"
   ]
  },
  {
   "cell_type": "code",
   "execution_count": 169,
   "metadata": {
    "tags": []
   },
   "outputs": [
    {
     "name": "stdout",
     "output_type": "stream",
     "text": [
      "['id' 'case_in_country' 'If_onset_approximated' 'visiting Wuhan'\n",
      " 'from Wuhan' 'Unnamed: 26']\n"
     ]
    }
   ],
   "source": [
    "\n",
    "# select numeric columns\n",
    "df_numeric = df.select_dtypes(include=[np.number])\n",
    "numeric_cols = df_numeric.columns.values\n",
    "print(numeric_cols)"
   ]
  },
  {
   "cell_type": "code",
   "execution_count": 171,
   "metadata": {
    "tags": []
   },
   "outputs": [
    {
     "name": "stdout",
     "output_type": "stream",
     "text": [
      "['reporting date' 'location' 'country' 'gender' 'symptom_onset'\n",
      " 'hosp_visit_date' 'exposure_start' 'exposure_end' 'death' 'recovered'\n",
      " 'symptom' 'source' 'link']\n"
     ]
    }
   ],
   "source": [
    "\n",
    "# select non numeric columns\n",
    "df_non_numeric = df.select_dtypes(exclude=[np.number])\n",
    "non_numeric_cols = df_non_numeric.columns.values\n",
    "print(non_numeric_cols)"
   ]
  },
  {
   "cell_type": "code",
   "execution_count": 172,
   "metadata": {},
   "outputs": [
    {
     "data": {
      "text/plain": [
       "<matplotlib.axes._subplots.AxesSubplot at 0x1f047d818b0>"
      ]
     },
     "execution_count": 172,
     "metadata": {},
     "output_type": "execute_result"
    },
    {
     "data": {
      "image/png": "[encoded data removed]",
      "text/plain": [
       "<Figure size 864x576 with 2 Axes>"
      ]
     },
     "metadata": {
      "needs_background": "light"
     },
     "output_type": "display_data"
    }
   ],
   "source": [
    "cols = df.columns[:30] # first 30 columns\n",
    "colours = ['#000099', '#ffff00'] # specify the colours - yellow is missing. blue is not missing.\n",
    "sns.heatmap(df[cols].isnull(), cmap=sns.color_palette(colours))"
   ]
  },
  {
   "cell_type": "code",
   "execution_count": 173,
   "metadata": {
    "tags": []
   },
   "outputs": [
    {
     "name": "stdout",
     "output_type": "stream",
     "text": [
      "id - 0.0%\n",
      "case_in_country - 22.0%\n",
      "reporting date - 0.0%\n",
      "location - 0.0%\n",
      "country - 0.0%\n",
      "gender - 0.0%\n",
      "symptom_onset - 38.0%\n",
      "If_onset_approximated - 38.0%\n",
      "hosp_visit_date - 44.0%\n",
      "exposure_start - 87.0%\n",
      "exposure_end - 65.0%\n",
      "visiting Wuhan - 0.0%\n",
      "from Wuhan - 0.0%\n",
      "death - 0.0%\n",
      "recovered - 0.0%\n",
      "symptom - 70.0%\n",
      "source - 0.0%\n",
      "link - 0.0%\n",
      "Unnamed: 26 - 100.0%\n"
     ]
    }
   ],
   "source": [
    "# if it's a larger dataset and the visualization takes too long can do this.\n",
    "# % of missing.\n",
    "for col in df.columns:\n",
    "    pct_missing = np.mean(df[col].isnull())\n",
    "    print('{} - {}%'.format(col, round(pct_missing*100)))"
   ]
  },
  {
   "cell_type": "code",
   "execution_count": 174,
   "metadata": {
    "tags": []
   },
   "outputs": [
    {
     "name": "stdout",
     "output_type": "stream",
     "text": [
      "created missing indicator for: case_in_country\n",
      "created missing indicator for: symptom_onset\n",
      "created missing indicator for: If_onset_approximated\n",
      "created missing indicator for: hosp_visit_date\n",
      "created missing indicator for: exposure_start\n",
      "created missing indicator for: exposure_end\n",
      "created missing indicator for: from Wuhan\n",
      "created missing indicator for: symptom\n",
      "created missing indicator for: Unnamed: 26\n"
     ]
    },
    {
     "data": {
      "text/plain": [
       "<matplotlib.axes._subplots.AxesSubplot at 0x1f04552da00>"
      ]
     },
     "execution_count": 174,
     "metadata": {},
     "output_type": "execute_result"
    },
    {
     "data": {
      "image/png": "[encoded data removed]",
      "text/plain": [
       "<Figure size 864x576 with 1 Axes>"
      ]
     },
     "metadata": {
      "needs_background": "light"
     },
     "output_type": "display_data"
    }
   ],
   "source": [
    "# first create missing indicator for features with missing data\n",
    "for col in df.columns:\n",
    "    missing = df[col].isnull()\n",
    "    num_missing = np.sum(missing)\n",
    "    \n",
    "    if num_missing > 0:  \n",
    "        print('created missing indicator for: {}'.format(col))\n",
    "        df['{}_ismissing'.format(col)] = missing\n",
    "\n",
    "\n",
    "# then based on the indicator, plot the histogram of missing values\n",
    "ismissing_cols = [col for col in df.columns if 'ismissing' in col]\n",
    "df['num_missing'] = df[ismissing_cols].sum(axis=1)\n",
    "\n",
    "df['num_missing'].value_counts().reset_index().sort_values(by='index').plot.bar(x='index', y='num_missing')"
   ]
  },
  {
   "cell_type": "code",
   "execution_count": 175,
   "metadata": {},
   "outputs": [
    {
     "data": {
      "text/plain": [
       "<matplotlib.axes._subplots.AxesSubplot at 0x1f0450eff70>"
      ]
     },
     "execution_count": 175,
     "metadata": {},
     "output_type": "execute_result"
    },
    {
     "data": {
      "image/png": "[encoded data removed]",
      "text/plain": [
       "<Figure size 864x576 with 1 Axes>"
      ]
     },
     "metadata": {
      "needs_background": "light"
     },
     "output_type": "display_data"
    }
   ],
   "source": [
    "# histogram of a particular feature 'duration'.\n",
    "df['case_in_country'].hist(bins=100)"
   ]
  },
  {
   "cell_type": "code",
   "execution_count": 176,
   "metadata": {},
   "outputs": [
    {
     "data": {
      "text/plain": [
       "<matplotlib.axes._subplots.AxesSubplot at 0x1f0478b17c0>"
      ]
     },
     "execution_count": 176,
     "metadata": {},
     "output_type": "execute_result"
    },
    {
     "data": {
      "image/png": "[encoded data removed]",
      "text/plain": [
       "<Figure size 864x576 with 1 Axes>"
      ]
     },
     "metadata": {
      "needs_background": "light"
     },
     "output_type": "display_data"
    }
   ],
   "source": [
    "# box plot.\n",
    "df.boxplot(column=['case_in_country'])"
   ]
  },
  {
   "cell_type": "code",
   "execution_count": 177,
   "metadata": {
    "scrolled": true
   },
   "outputs": [
    {
     "data": {
      "text/plain": [
       "count     705.000000\n",
       "mean       54.651064\n",
       "std        86.266897\n",
       "min         1.000000\n",
       "25%        12.000000\n",
       "50%        35.000000\n",
       "75%        72.000000\n",
       "max      1443.000000\n",
       "Name: case_in_country, dtype: float64"
      ]
     },
     "execution_count": 177,
     "metadata": {},
     "output_type": "execute_result"
    }
   ],
   "source": [
    "df['case_in_country'].describe()"
   ]
  },
  {
   "cell_type": "code",
   "execution_count": 46,
   "metadata": {},
   "outputs": [
    {
     "name": "stdout",
     "output_type": "stream",
     "text": [
      "<class 'pandas.core.frame.DataFrame'>\n",
      "RangeIndex: 902 entries, 0 to 901\n",
      "Data columns (total 29 columns):\n",
      " #   Column                           Non-Null Count  Dtype  \n",
      "---  ------                           --------------  -----  \n",
      " 0   id                               902 non-null    int64  \n",
      " 1   case_in_country                  705 non-null    float64\n",
      " 2   reporting date                   902 non-null    object \n",
      " 3   location                         902 non-null    object \n",
      " 4   country                          902 non-null    object \n",
      " 5   gender                           902 non-null    object \n",
      " 6   symptom_onset                    558 non-null    object \n",
      " 7   If_onset_approximated            555 non-null    float64\n",
      " 8   hosp_visit_date                  505 non-null    object \n",
      " 9   exposure_start                   119 non-null    object \n",
      " 10  exposure_end                     320 non-null    object \n",
      " 11  visiting Wuhan                   902 non-null    int64  \n",
      " 12  from Wuhan                       898 non-null    float64\n",
      " 13  death                            902 non-null    object \n",
      " 14  recovered                        902 non-null    object \n",
      " 15  symptom                          269 non-null    object \n",
      " 16  source                           902 non-null    object \n",
      " 17  link                             902 non-null    object \n",
      " 18  Unnamed: 26                      0 non-null      float64\n",
      " 19  case_in_country_ismissing        902 non-null    bool   \n",
      " 20  symptom_onset_ismissing          902 non-null    bool   \n",
      " 21  If_onset_approximated_ismissing  902 non-null    bool   \n",
      " 22  hosp_visit_date_ismissing        902 non-null    bool   \n",
      " 23  exposure_start_ismissing         902 non-null    bool   \n",
      " 24  exposure_end_ismissing           902 non-null    bool   \n",
      " 25  from Wuhan_ismissing             902 non-null    bool   \n",
      " 26  symptom_ismissing                902 non-null    bool   \n",
      " 27  Unnamed: 26_ismissing            902 non-null    bool   \n",
      " 28  num_missing                      902 non-null    int64  \n",
      "dtypes: bool(9), float64(4), int64(3), object(13)\n",
      "memory usage: 149.0+ KB\n"
     ]
    }
   ],
   "source": [
    "df.head()\n",
    "df.info()"
   ]
  },
  {
   "cell_type": "code",
   "execution_count": 178,
   "metadata": {},
   "outputs": [
    {
     "data": {
      "text/plain": [
       "<matplotlib.axes._subplots.AxesSubplot at 0x1f0477642e0>"
      ]
     },
     "execution_count": 178,
     "metadata": {},
     "output_type": "execute_result"
    },
    {
     "data": {
      "image/png": "[encoded data removed]",
      "text/plain": [
       "<Figure size 864x576 with 1 Axes>"
      ]
     },
     "metadata": {},
     "output_type": "display_data"
    }
   ],
   "source": [
    "cat_totals = df.groupby(\"country\")[\"case_in_country\"].sum().sort_values()\n",
    "small_cat_totals = cat_totals[cat_totals < 500]\n",
    "big_cat_totals = cat_totals[cat_totals > 500]\n",
    "small_sums = pd.Series([small_cat_totals.sum()], index=[\"Other\"])\n",
    "big_cat_totals = big_cat_totals.append(small_sums)\n",
    "big_cat_totals.plot(kind=\"pie\", label=\"\")"
   ]
  },
  {
   "cell_type": "code",
   "execution_count": 219,
   "metadata": {},
   "outputs": [
    {
     "data": {
      "text/plain": [
       "194    fever, cough, difficult in breathing\n",
       "195    fever, cough, difficult in breathing\n",
       "196                                   fever\n",
       "217                                   fever\n",
       "221                                   fever\n",
       "                       ...                 \n",
       "836                                   cough\n",
       "851               fever, cough, sore throat\n",
       "854                                   fever\n",
       "861                      sore throat, fever\n",
       "880                                   cough\n",
       "Name: symptom, Length: 269, dtype: object"
      ]
     },
     "execution_count": 219,
     "metadata": {},
     "output_type": "execute_result"
    }
   ],
   "source": [
    "df['symptom'] = df['symptom'].str.replace('feaver', 'fever')\n",
    "symptoms_data = df['symptom'].dropna()\n",
    "symptoms_data"
   ]
  },
  {
   "cell_type": "code",
   "execution_count": 180,
   "metadata": {},
   "outputs": [
    {
     "data": {
      "text/plain": [
       "<matplotlib.axes._subplots.AxesSubplot at 0x1f0478ee370>"
      ]
     },
     "execution_count": 180,
     "metadata": {},
     "output_type": "execute_result"
    },
    {
     "data": {
      "image/png": "[encoded data removed]",
      "text/plain": [
       "<Figure size 864x576 with 1 Axes>"
      ]
     },
     "metadata": {
      "needs_background": "light"
     },
     "output_type": "display_data"
    }
   ],
   "source": [
    "# get \n",
    "japan_location = df[df['country'] == 'Japan' ]\n",
    "japan_location['location'].value_counts().plot(kind='bar')"
   ]
  }
 ],
 "metadata": {
  "kernelspec": {
   "display_name": "Python 3",
   "language": "python",
   "name": "python3"
  },
  "language_info": {
   "codemirror_mode": {
    "name": "ipython",
    "version": 3
   },
   "file_extension": ".py",
   "mimetype": "text/x-python",
   "name": "python",
   "nbconvert_exporter": "python",
   "pygments_lexer": "ipython3",
   "version": "3.8.3"
  }
 },
 "nbformat": 4,
 "nbformat_minor": 2
}